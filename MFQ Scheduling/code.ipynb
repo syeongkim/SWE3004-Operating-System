{
  "nbformat": 4,
  "nbformat_minor": 0,
  "metadata": {
    "colab": {
      "provenance": []
    },
    "kernelspec": {
      "name": "python3",
      "display_name": "Python 3"
    },
    "language_info": {
      "name": "python"
    },
    "accelerator": "GPU",
    "gpuClass": "standard"
  },
  "cells": [
    {
      "cell_type": "code",
      "source": [
        "class FCFS:\n",
        "  def __init__(self, process_list):\n",
        "    self.process_list = process_list\n",
        "    self.executedplist = []\n",
        "\n",
        "  def scheduling(self):\n",
        "    process_list = self.process_list\n",
        "    executedplist = self.executedplist\n",
        "    findstime = []\n",
        "    for i in range(len(process_list)):\n",
        "      findstime.append(process_list[i][4])\n",
        "    stime = max(findstime)\n",
        "    for i in range(len(process_list)):\n",
        "      if process_list[i][2] == 0:\n",
        "        pass\n",
        "      else:\n",
        "        if stime < int(process_list[i][1]):\n",
        "          stime = int(process_list[i][1])\n",
        "        temp = [process_list[i][0], stime, process_list[i][2]]\n",
        "        stime += int(process_list[i][2])\n",
        "        etime = stime\n",
        "        process_list[i][2] = 0\n",
        "        process_list[i][4] = etime\n",
        "        ttime = etime - int(process_list[i][1])\n",
        "        process_list[i][5] = ttime\n",
        "        wtime = int(process_list[i][5]) - int(process_list[i][3])\n",
        "        process_list[i][6] = wtime\n",
        "        temp.append(process_list[i][4])\n",
        "        executedplist.append(temp)\n",
        "\n",
        "  def executedplist(self):\n",
        "    executedplist = self.executedplist\n",
        "    return executedplist"
      ],
      "metadata": {
        "id": "IOu1MqWRfDy7"
      },
      "execution_count": 1,
      "outputs": []
    },
    {
      "cell_type": "code",
      "source": [
        "class RoundRobin:\n",
        "  def __init__(self, process_list, timequantum):\n",
        "    self.process_list = process_list\n",
        "    self.timequantum = timequantum\n",
        "    self.executedplist = []\n",
        "\n",
        "  def scheduling(self):\n",
        "    process_list = self.process_list\n",
        "    timequantum = self.timequantum\n",
        "    executedplist = self.executedplist\n",
        "    findstime = []\n",
        "    for i in range(len(process_list)):\n",
        "      findstime.append(process_list[i][4])\n",
        "    stime = max(findstime)\n",
        "    for i in range(len(process_list)):\n",
        "      if process_list[i][2] == 0:\n",
        "        pass\n",
        "      else:\n",
        "        if stime < int(process_list[i][1]):\n",
        "          stime = int(process_list[i][1])\n",
        "        if int(process_list[i][2]) > timequantum:\n",
        "          temp = [process_list[i][0], stime, int(timequantum)]\n",
        "          stime += timequantum\n",
        "          etime = stime\n",
        "          process_list[i][2] = int(process_list[i][2]) - timequantum\n",
        "          process_list[i][4] = etime\n",
        "          temp.append(process_list[i][4])\n",
        "          executedplist.append(temp)\n",
        "        elif int(process_list[i][2]) <= timequantum:\n",
        "          temp = [process_list[i][0], stime, process_list[i][2]]\n",
        "          stime += int(process_list[i][2])\n",
        "          etime = stime\n",
        "          process_list[i][2] = 0\n",
        "          process_list[i][4] = etime\n",
        "          ttime = int(process_list[i][4]) - int(process_list[i][1])\n",
        "          process_list[i][5] = ttime\n",
        "          wtime = int(process_list[i][5]) - int(process_list[i][3])\n",
        "          process_list[i][6] = wtime\n",
        "          temp.append(process_list[i][4])\n",
        "          executedplist.append(temp)\n",
        "      \n",
        "  def executedplist(self):\n",
        "    executedplist = self.executedplist\n",
        "    return executedplist"
      ],
      "metadata": {
        "id": "MLj13XvkmVLR"
      },
      "execution_count": 2,
      "outputs": []
    },
    {
      "cell_type": "code",
      "source": [
        "def MFQ(process_list):\n",
        "  ganttchart = []\n",
        "  Q0 = RoundRobin(process_list, 2)\n",
        "  RoundRobin.scheduling(Q0)\n",
        "  executedplist1 = RoundRobin.executedplist(Q0)\n",
        "  for i in range(len(executedplist1)):\n",
        "    ganttchart.append(executedplist1[i])\n",
        "\n",
        "  Q1 = RoundRobin(process_list, 4)\n",
        "  RoundRobin.scheduling(Q1)\n",
        "  executedplist2 = RoundRobin.executedplist(Q1)\n",
        "  for i in range(len(executedplist2)):\n",
        "    ganttchart.append(executedplist2[i])\n",
        "\n",
        "  Q2 = FCFS(process_list)\n",
        "  FCFS.scheduling(Q2)\n",
        "  executedplist3 = RoundRobin.executedplist(Q2)\n",
        "  for i in range(len(executedplist3)):\n",
        "    ganttchart.append(executedplist3[i])\n",
        "\n",
        "  return process_list, ganttchart"
      ],
      "metadata": {
        "id": "uNwj-3U2-2Kh"
      },
      "execution_count": 3,
      "outputs": []
    },
    {
      "cell_type": "code",
      "source": [
        "f = open(\"input3.txt\", \"r\")\n",
        "process_number = f.readline()\n",
        "lines = f.readlines()\n",
        "process_list = []\n",
        "\n",
        "for i in range(int(process_number)):\n",
        "    process_id, arrival_time, remain_burst_time = lines[i].split(' ')\n",
        "    remain_burst_time = int(remain_burst_time)\n",
        "    burst_time = remain_burst_time\n",
        "    etime = 0\n",
        "    ttime = 0\n",
        "    wtime = 0\n",
        "    process = [process_id, arrival_time, remain_burst_time, burst_time, etime, ttime, wtime]\n",
        "    process_list.append(process)"
      ],
      "metadata": {
        "id": "KuzjKzAdwTaE"
      },
      "execution_count": 33,
      "outputs": []
    },
    {
      "cell_type": "code",
      "source": [
        "process_list"
      ],
      "metadata": {
        "colab": {
          "base_uri": "https://localhost:8080/"
        },
        "id": "hQBeurn_wGFE",
        "outputId": "5862998c-b686-4fe1-a975-7ac63fc4b0be"
      },
      "execution_count": 34,
      "outputs": [
        {
          "output_type": "execute_result",
          "data": {
            "text/plain": [
              "[['1', '0', 8, 8, 0, 0, 0],\n",
              " ['2', '1', 4, 4, 0, 0, 0],\n",
              " ['3', '3', 9, 9, 0, 0, 0],\n",
              " ['4', '6', 5, 5, 0, 0, 0]]"
            ]
          },
          "metadata": {},
          "execution_count": 34
        }
      ]
    },
    {
      "cell_type": "code",
      "source": [
        "table, chart = MFQ(process_list)\n",
        "print(\"Process Table\")\n",
        "print(\"--------------------------------------------------------------------\")\n",
        "print(\"| PID | Arrival Time | Burst Time | Turnaround Time | Waiting Time |\")\n",
        "table.sort(key = lambda x:int(x[0]))\n",
        "for process in table:\n",
        "  print(f'|{process[0]:^5}|{process[1]:^14}|{process[3]:^12}|{process[5]:^17}|{process[6]:^14}|')\n",
        "print(\"--------------------------------------------------------------------\")\n",
        "print(\"Average Turnaround Time: \", sum(process_list[i][5] for i in range(len(process_list)))/len(process_list))\n",
        "print(\"Average Waiting Time: \", sum(process_list[i][6] for i in range(len(process_list)))/len(process_list))"
      ],
      "metadata": {
        "colab": {
          "base_uri": "https://localhost:8080/"
        },
        "id": "JOZkMzgOgRMT",
        "outputId": "080a983b-2e06-431d-d968-5701a89137ce"
      },
      "execution_count": 35,
      "outputs": [
        {
          "output_type": "stream",
          "name": "stdout",
          "text": [
            "Process Table\n",
            "--------------------------------------------------------------------\n",
            "| PID | Arrival Time | Burst Time | Turnaround Time | Waiting Time |\n",
            "|  1  |      0       |     8      |       23        |      15      |\n",
            "|  2  |      1       |     4      |       13        |      9       |\n",
            "|  3  |      3       |     9      |       23        |      14      |\n",
            "|  4  |      6       |     5      |       15        |      10      |\n",
            "--------------------------------------------------------------------\n",
            "Average Turnaround Time:  18.5\n",
            "Average Waiting Time:  12.0\n"
          ]
        }
      ]
    },
    {
      "cell_type": "code",
      "source": [
        "print(\"Gantt Chart\")\n",
        "for i in range(len(chart)):\n",
        "  print(f'{chart[i][1]}', end = '')\n",
        "  if chart[i][1] < 9:\n",
        "    print(\"-\"*15, end = '')\n",
        "  else:\n",
        "    print(\"-\"*13, end = '')\n",
        "  print(f'{chart[i][3]}')\n",
        "  for j in range(int(chart[i][2])):\n",
        "    print(f'|{chart[i][0]:^15}|')\n",
        "print(\"-\"*17)"
      ],
      "metadata": {
        "colab": {
          "base_uri": "https://localhost:8080/"
        },
        "id": "sHSqXBtr3KNO",
        "outputId": "f1606265-96c6-4e51-814e-4f1af3c821b8"
      },
      "execution_count": 36,
      "outputs": [
        {
          "output_type": "stream",
          "name": "stdout",
          "text": [
            "Gantt Chart\n",
            "0---------------2\n",
            "|       1       |\n",
            "|       1       |\n",
            "2---------------4\n",
            "|       2       |\n",
            "|       2       |\n",
            "4---------------6\n",
            "|       3       |\n",
            "|       3       |\n",
            "6---------------8\n",
            "|       4       |\n",
            "|       4       |\n",
            "8---------------12\n",
            "|       1       |\n",
            "|       1       |\n",
            "|       1       |\n",
            "|       1       |\n",
            "12-------------14\n",
            "|       2       |\n",
            "|       2       |\n",
            "14-------------18\n",
            "|       3       |\n",
            "|       3       |\n",
            "|       3       |\n",
            "|       3       |\n",
            "18-------------21\n",
            "|       4       |\n",
            "|       4       |\n",
            "|       4       |\n",
            "21-------------23\n",
            "|       1       |\n",
            "|       1       |\n",
            "23-------------26\n",
            "|       3       |\n",
            "|       3       |\n",
            "|       3       |\n",
            "-----------------\n"
          ]
        }
      ]
    },
    {
      "cell_type": "code",
      "source": [],
      "metadata": {
        "id": "j7ggU58Rrt0L"
      },
      "execution_count": null,
      "outputs": []
    }
  ]
}